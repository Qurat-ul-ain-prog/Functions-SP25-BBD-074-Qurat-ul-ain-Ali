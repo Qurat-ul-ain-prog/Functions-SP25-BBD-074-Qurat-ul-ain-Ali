{
 "cells": [
  {
   "cell_type": "code",
   "execution_count": null,
   "id": "0bc5fbd5-f1d2-4101-8c7e-3b02dcb43e5b",
   "metadata": {},
   "outputs": [],
   "source": [
    "# Exercise 1: Basic Function Call\n",
    "\n",
    "def say_hello():\n",
    "    print(\"Hello, Python Learner!\")\n",
    "say_hello()"
   ]
  },
  {
   "cell_type": "code",
   "execution_count": 14,
   "id": "cc9106a1",
   "metadata": {},
   "outputs": [
    {
     "name": "stdout",
     "output_type": "stream",
     "text": [
      "Hello, Jack! Welcome. \n"
     ]
    }
   ],
   "source": [
    "# Exercise 2: Function with a Parameter\n",
    "\n",
    "def greet_user(name):\n",
    "    print(f\"Hello, {name}! Welcome. \")\n",
    "greet_user('Jack')"
   ]
  },
  {
   "cell_type": "code",
   "execution_count": 13,
   "id": "bd4ad3d5",
   "metadata": {},
   "outputs": [
    {
     "name": "stdout",
     "output_type": "stream",
     "text": [
      "My friend Jack has a cat.\n",
      "His cat's name is Fluffy.\n",
      "My friend Jack has a cat.\n",
      "His cat's name is Milo.\n"
     ]
    }
   ],
   "source": [
    "# Exercise 3: Positional vs Keyword Arguments\n",
    "\n",
    "def describe_pet(animal_type, pet_name):\n",
    "    print(f\"My friend Jack has a {animal_type}.\")\n",
    "    print(f\"His {animal_type}'s name is {pet_name.title()}.\")\n",
    "\n",
    "describe_pet('cat', 'fluffy')\n",
    "describe_pet(animal_type='cat', pet_name='milo')\n",
    "\n"
   ]
  },
  {
   "cell_type": "code",
   "execution_count": 29,
   "id": "d3591998",
   "metadata": {},
   "outputs": [
    {
     "name": "stdout",
     "output_type": "stream",
     "text": [
      "My friend Jack has a dog.\n",
      "His dog's name is Roxy.\n",
      "My friend Jack has a dog.\n",
      "His dog's name is Oreo.\n"
     ]
    }
   ],
   "source": [
    "# Exercise 4: Default Parameters\n",
    "\n",
    "# Modify the describe_pet() function to use 'dog' as the default value for animal_type.\n",
    "# Then call it with and without specifying the animal type.\n",
    "\n",
    "def describe_pet(animal_type, pet_name):\n",
    "    print(f\"My friend Jack has a {animal_type}.\")\n",
    "    print(f\"His {animal_type}'s name is {pet_name.title()}.\")\n",
    "    \n",
    "describe_pet(animal_type='dog', pet_name='roxy')\n",
    "describe_pet('dog', 'oreo')"
   ]
  },
  {
   "cell_type": "code",
   "execution_count": 9,
   "id": "c7d1215b",
   "metadata": {},
   "outputs": [
    {
     "name": "stdout",
     "output_type": "stream",
     "text": [
      "Alina Stone\n"
     ]
    }
   ],
   "source": [
    "# Exercise 5\n",
    "\n",
    "def get_formatted_name(first, last):\n",
    "    full_name = f\"{first} {last}\"\n",
    "    return full_name.title()\n",
    "\n",
    "formatted_name = get_formatted_name(\"Alina\", \"Stone\")\n",
    "print(formatted_name)"
   ]
  },
  {
   "cell_type": "code",
   "execution_count": 5,
   "id": "ba32aa7d-868b-4d21-9a98-b46961ea6377",
   "metadata": {},
   "outputs": [
    {
     "name": "stdout",
     "output_type": "stream",
     "text": [
      "Alina Stone\n",
      "Alina Grey Stone\n"
     ]
    }
   ],
   "source": [
    "# Exercise 6\n",
    "\n",
    "def get_formatted_name(first, last, middle=\"\"):\n",
    "    if middle:\n",
    "        full_name = f\"{first} {middle} {last}\"\n",
    "    else:\n",
    "        full_name = f\"{first} {last}\"\n",
    "    return full_name.title()\n",
    "\n",
    "# Examples:\n",
    "print(get_formatted_name(\"Alina\", \"Stone\"))               \n",
    "print(get_formatted_name(\"Alina\", \"Stone\", \"Grey\")) "
   ]
  },
  {
   "cell_type": "code",
   "execution_count": 13,
   "id": "4c0857df-e62b-4faf-8ed3-722627bcee52",
   "metadata": {},
   "outputs": [
    {
     "name": "stdout",
     "output_type": "stream",
     "text": [
      "{'first': 'Alina', 'last': 'Stone'}\n",
      "{'first': 'Alina', 'last': 'Stone', 'age': 20}\n"
     ]
    }
   ],
   "source": [
    "# Exercise 7\n",
    "\n",
    "def build_person(first, last, age = None):\n",
    "    person = {\"first\": first, \"last\": last}\n",
    "    if age:\n",
    "        person[\"age\"] = age\n",
    "    return person\n",
    "\n",
    "print(build_person(\"Alina\", \"Stone\"))\n",
    "print(build_person(\"Alina\", \"Stone\", 20))"
   ]
  },
  {
   "cell_type": "code",
   "execution_count": 15,
   "id": "63b67cf7-51e6-4262-af7e-3cdf9a65f646",
   "metadata": {},
   "outputs": [
    {
     "name": "stdout",
     "output_type": "stream",
     "text": [
      "Hello, Isra! Welcome aboard.\n",
      "Hello, Harry! Welcome aboard.\n",
      "Hello, Lily! Welcome aboard.\n"
     ]
    }
   ],
   "source": [
    "# Exercise 8\n",
    "\n",
    "def greet_users(usernames):\n",
    "    for name in usernames:\n",
    "        print(f\"Hello, {name.title()}! Welcome aboard.\")\n",
    "users = ['isra', 'harry', 'lily']\n",
    "greet_users(users)"
   ]
  },
  {
   "cell_type": "code",
   "execution_count": 21,
   "id": "48e1bbb8-7e94-44bc-8a1c-52fa44ef97b7",
   "metadata": {},
   "outputs": [
    {
     "name": "stdout",
     "output_type": "stream",
     "text": [
      "Make a pizza with the following toppings:\n",
      "- chicken\n",
      "- onions\n",
      "- green peppers\n"
     ]
    }
   ],
   "source": [
    "# Exercise 9\n",
    "\n",
    "def make_pizza(*toppings):\n",
    "    print(\"Make a pizza with the following toppings:\")\n",
    "    for topping in toppings:\n",
    "        print(f\"- {topping}\")\n",
    "\n",
    "make_pizza('chicken', 'onions', 'green peppers')"
   ]
  },
  {
   "cell_type": "code",
   "execution_count": 27,
   "id": "4aef79d1-1232-4e3e-a854-8f9a1d2a2653",
   "metadata": {},
   "outputs": [
    {
     "name": "stdout",
     "output_type": "stream",
     "text": [
      "{'first_name': 'princess', 'last_name': 'aurora', 'location': 'enchanted forest', 'hobby': 'singing with birds'}\n"
     ]
    }
   ],
   "source": [
    "# Exercise 10\n",
    "\n",
    "def build_profile(first, last, **info):\n",
    "    \"\"\"Builds a dictionary containing everything we know about a user.\"\"\"\n",
    "    profile = {\n",
    "        'first_name': first,\n",
    "        'last_name': last}\n",
    "    profile.update(info)\n",
    "    return profile\n",
    "\n",
    "user_profile = build_profile('princess', 'aurora', location = 'enchanted forest', hobby = 'singing with birds')\n",
    "print(user_profile)\n"
   ]
  },
  {
   "cell_type": "code",
   "execution_count": null,
   "id": "b37e1b0b-7621-423b-b19e-7102c5300809",
   "metadata": {},
   "outputs": [],
   "source": []
  }
 ],
 "metadata": {
  "kernelspec": {
   "display_name": "Python [conda env:base] *",
   "language": "python",
   "name": "conda-base-py"
  },
  "language_info": {
   "codemirror_mode": {
    "name": "ipython",
    "version": 3
   },
   "file_extension": ".py",
   "mimetype": "text/x-python",
   "name": "python",
   "nbconvert_exporter": "python",
   "pygments_lexer": "ipython3",
   "version": "3.12.7"
  }
 },
 "nbformat": 4,
 "nbformat_minor": 5
}
